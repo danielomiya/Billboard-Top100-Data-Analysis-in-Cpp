{
 "metadata": {
  "language_info": {
   "codemirror_mode": {
    "name": "ipython",
    "version": 3
   },
   "file_extension": ".py",
   "mimetype": "text/x-python",
   "name": "python",
   "nbconvert_exporter": "python",
   "pygments_lexer": "ipython3",
   "version": "3.8.3-final"
  },
  "orig_nbformat": 2,
  "kernelspec": {
   "name": "python383jvsc74a57bd0245f1f936248126a9407f95819ca1de09eec9b8184a32caf3bed17db4c7234b7",
   "display_name": "Python 3.8.3 64-bit (conda)"
  }
 },
 "nbformat": 4,
 "nbformat_minor": 2,
 "cells": [
  {
   "cell_type": "code",
   "execution_count": 1,
   "metadata": {},
   "outputs": [
    {
     "output_type": "stream",
     "name": "stdout",
     "text": [
      "Requirement already satisfied: python-igraph in c:\\users\\oihugu\\anaconda3\\lib\\site-packages (0.9.1)\nRequirement already satisfied: texttable>=1.6.2 in c:\\users\\oihugu\\anaconda3\\lib\\site-packages (from python-igraph) (1.6.3)\n"
     ]
    }
   ],
   "source": [
    "!pip install python-igraph"
   ]
  },
  {
   "cell_type": "code",
   "execution_count": 1,
   "metadata": {},
   "outputs": [
    {
     "output_type": "stream",
     "name": "stdout",
     "text": [
      "c:\\Users\\oihugu\\Desktop\\dev\\C++\\Billboard-Top100-Data-Analysis-in-Cpp\n"
     ]
    }
   ],
   "source": [
    "cd ../.."
   ]
  },
  {
   "cell_type": "code",
   "execution_count": 16,
   "metadata": {},
   "outputs": [
    {
     "output_type": "execute_result",
     "data": {
      "text/plain": [
       "{'1': {'date': '1958-08-04',\n",
       "  'rank': '1',\n",
       "  'song': 'Poor Little Fool',\n",
       "  'artist': 'Ricky Nelson',\n",
       "  'last_weak': '0',\n",
       "  'peak_rank': '1',\n",
       "  'weaks_on_board': '1',\n",
       "  'root': 'True',\n",
       "  'father': None,\n",
       "  'orientation_n': None},\n",
       " '4': {'date': '1958-08-04',\n",
       "  'rank': '9',\n",
       "  'song': 'Willie And The Hand Jive',\n",
       "  'artist': 'The Johnny Otis Show',\n",
       "  'last_weak': '0',\n",
       "  'peak_rank': '9',\n",
       "  'weaks_on_board': '1',\n",
       "  'root': 'False',\n",
       "  'father': '5',\n",
       "  'orientation_n': 'left'},\n",
       " '5': {'date': '1958-08-04',\n",
       "  'rank': '7',\n",
       "  'song': 'Yakety Yak',\n",
       "  'artist': 'The Coasters',\n",
       "  'last_weak': '0',\n",
       "  'peak_rank': '7',\n",
       "  'weaks_on_board': '1',\n",
       "  'root': 'False',\n",
       "  'father': '6',\n",
       "  'orientation_n': 'left'},\n",
       " '6': {'date': '1958-08-04',\n",
       "  'rank': '5',\n",
       "  'song': 'When',\n",
       "  'artist': 'Kalin Twins',\n",
       "  'last_weak': '0',\n",
       "  'peak_rank': '5',\n",
       "  'weaks_on_board': '1',\n",
       "  'root': 'False',\n",
       "  'father': '7',\n",
       "  'orientation_n': 'left'},\n",
       " '7': {'date': '1958-08-04',\n",
       "  'rank': '3',\n",
       "  'song': 'Splish Splash',\n",
       "  'artist': 'Bobby Darin',\n",
       "  'last_weak': '0',\n",
       "  'peak_rank': '3',\n",
       "  'weaks_on_board': '1',\n",
       "  'root': 'False',\n",
       "  'father': '16',\n",
       "  'orientation_n': 'left'},\n",
       " '12': {'date': '1958-08-04',\n",
       "  'rank': '10',\n",
       "  'song': 'Fever',\n",
       "  'artist': 'Peggy Lee',\n",
       "  'last_weak': '0',\n",
       "  'peak_rank': '10',\n",
       "  'weaks_on_board': '1',\n",
       "  'root': 'False',\n",
       "  'father': '13',\n",
       "  'orientation_n': 'left'},\n",
       " '13': {'date': '1958-08-04',\n",
       "  'rank': '8',\n",
       "  'song': 'My True Love',\n",
       "  'artist': 'Jack Scott',\n",
       "  'last_weak': '0',\n",
       "  'peak_rank': '8',\n",
       "  'weaks_on_board': '1',\n",
       "  'root': 'False',\n",
       "  'father': '14',\n",
       "  'orientation_n': 'left'},\n",
       " '14': {'date': '1958-08-04',\n",
       "  'rank': '6',\n",
       "  'song': \"Rebel-'rouser\",\n",
       "  'artist': 'Duane Eddy His Twangy Guitar And The Rebels',\n",
       "  'last_weak': '0',\n",
       "  'peak_rank': '6',\n",
       "  'weaks_on_board': '1',\n",
       "  'root': 'False',\n",
       "  'father': '15',\n",
       "  'orientation_n': 'left'},\n",
       " '15': {'date': '1958-08-04',\n",
       "  'rank': '4',\n",
       "  'song': 'Hard Headed Woman',\n",
       "  'artist': 'Elvis Presley With The Jordanaires',\n",
       "  'last_weak': '0',\n",
       "  'peak_rank': '4',\n",
       "  'weaks_on_board': '1',\n",
       "  'root': 'False',\n",
       "  'father': '7',\n",
       "  'orientation_n': 'right'},\n",
       " '16': {'date': '1958-08-04',\n",
       "  'rank': '2',\n",
       "  'song': 'Patricia',\n",
       "  'artist': 'Perez Prado And His Orchestra',\n",
       "  'last_weak': '0',\n",
       "  'peak_rank': '2',\n",
       "  'weaks_on_board': '1',\n",
       "  'root': 'False',\n",
       "  'father': '1',\n",
       "  'orientation_n': 'right'}}"
      ]
     },
     "metadata": {},
     "execution_count": 16
    }
   ],
   "source": [
    "import json\n",
    "\n",
    "with open('data/output/tree.json') as file:\n",
    "    raw = file.read()\n",
    "\n",
    "node_dct = json.loads(raw)\n",
    "node_dct"
   ]
  },
  {
   "cell_type": "code",
   "execution_count": 17,
   "metadata": {},
   "outputs": [
    {
     "output_type": "execute_result",
     "data": {
      "text/plain": [
       "{'1': {'date': '1958-08-04',\n",
       "  'rank': '1',\n",
       "  'song': 'Poor Little Fool',\n",
       "  'artist': 'Ricky Nelson',\n",
       "  'last_weak': '0',\n",
       "  'peak_rank': '1',\n",
       "  'weaks_on_board': '1',\n",
       "  'root': 'True',\n",
       "  'father': None,\n",
       "  'orientation_n': None},\n",
       " '4': {'date': '1958-08-04',\n",
       "  'rank': '9',\n",
       "  'song': 'Willie And The Hand Jive',\n",
       "  'artist': 'The Johnny Otis Show',\n",
       "  'last_weak': '0',\n",
       "  'peak_rank': '9',\n",
       "  'weaks_on_board': '1',\n",
       "  'root': 'False',\n",
       "  'father': '5',\n",
       "  'orientation_n': 'left'},\n",
       " '5': {'date': '1958-08-04',\n",
       "  'rank': '7',\n",
       "  'song': 'Yakety Yak',\n",
       "  'artist': 'The Coasters',\n",
       "  'last_weak': '0',\n",
       "  'peak_rank': '7',\n",
       "  'weaks_on_board': '1',\n",
       "  'root': 'False',\n",
       "  'father': '6',\n",
       "  'orientation_n': 'left'},\n",
       " '6': {'date': '1958-08-04',\n",
       "  'rank': '5',\n",
       "  'song': 'When',\n",
       "  'artist': 'Kalin Twins',\n",
       "  'last_weak': '0',\n",
       "  'peak_rank': '5',\n",
       "  'weaks_on_board': '1',\n",
       "  'root': 'False',\n",
       "  'father': '7',\n",
       "  'orientation_n': 'left'},\n",
       " '7': {'date': '1958-08-04',\n",
       "  'rank': '3',\n",
       "  'song': 'Splish Splash',\n",
       "  'artist': 'Bobby Darin',\n",
       "  'last_weak': '0',\n",
       "  'peak_rank': '3',\n",
       "  'weaks_on_board': '1',\n",
       "  'root': 'False',\n",
       "  'father': '16',\n",
       "  'orientation_n': 'left'},\n",
       " '12': {'date': '1958-08-04',\n",
       "  'rank': '10',\n",
       "  'song': 'Fever',\n",
       "  'artist': 'Peggy Lee',\n",
       "  'last_weak': '0',\n",
       "  'peak_rank': '10',\n",
       "  'weaks_on_board': '1',\n",
       "  'root': 'False',\n",
       "  'father': '13',\n",
       "  'orientation_n': 'left'},\n",
       " '13': {'date': '1958-08-04',\n",
       "  'rank': '8',\n",
       "  'song': 'My True Love',\n",
       "  'artist': 'Jack Scott',\n",
       "  'last_weak': '0',\n",
       "  'peak_rank': '8',\n",
       "  'weaks_on_board': '1',\n",
       "  'root': 'False',\n",
       "  'father': '14',\n",
       "  'orientation_n': 'left'},\n",
       " '14': {'date': '1958-08-04',\n",
       "  'rank': '6',\n",
       "  'song': \"Rebel-'rouser\",\n",
       "  'artist': 'Duane Eddy His Twangy Guitar And The Rebels',\n",
       "  'last_weak': '0',\n",
       "  'peak_rank': '6',\n",
       "  'weaks_on_board': '1',\n",
       "  'root': 'False',\n",
       "  'father': '15',\n",
       "  'orientation_n': 'left'},\n",
       " '15': {'date': '1958-08-04',\n",
       "  'rank': '4',\n",
       "  'song': 'Hard Headed Woman',\n",
       "  'artist': 'Elvis Presley With The Jordanaires',\n",
       "  'last_weak': '0',\n",
       "  'peak_rank': '4',\n",
       "  'weaks_on_board': '1',\n",
       "  'root': 'False',\n",
       "  'father': '7',\n",
       "  'orientation_n': 'right'},\n",
       " '16': {'date': '1958-08-04',\n",
       "  'rank': '2',\n",
       "  'song': 'Patricia',\n",
       "  'artist': 'Perez Prado And His Orchestra',\n",
       "  'last_weak': '0',\n",
       "  'peak_rank': '2',\n",
       "  'weaks_on_board': '1',\n",
       "  'root': 'False',\n",
       "  'father': '1',\n",
       "  'orientation_n': 'right'}}"
      ]
     },
     "metadata": {},
     "execution_count": 17
    }
   ],
   "source": [
    "node_dct"
   ]
  },
  {
   "cell_type": "code",
   "execution_count": 24,
   "metadata": {},
   "outputs": [],
   "source": [
    "wait_list = []\n",
    "for a in range(100):\n",
    "    for node in node_dct.values():\n",
    "\n",
    "        if node['root'] == 'True':\n",
    "            node['x'] = 0\n",
    "            node['y'] = 0\n",
    "            node['x_l'] = None\n",
    "            node['y_l'] = None\n",
    "\n",
    "        else:\n",
    "            if node != None:\n",
    "\n",
    "                father_node = node_dct[node['father']]\n",
    "\n",
    "                try:\n",
    "\n",
    "                    if node['orientation_n'] == 'left':\n",
    "                        node['x'] = father_node['x'] - 1\n",
    "                        node['y'] = father_node['y'] - 1\n",
    "\n",
    "                    if node['orientation_n'] == 'right':\n",
    "                        node['x'] = father_node['x'] + 1\n",
    "                        node['y'] = father_node['y'] - 1\n",
    "\n",
    "                    node['x_l'] = [father_node['x'], node['x']]\n",
    "                    node['y_l'] = [father_node['y'], node['y']]\n",
    "                \n",
    "                except Exception as e:\n",
    "                    wait_list.append(node)"
   ]
  },
  {
   "cell_type": "code",
   "execution_count": 25,
   "metadata": {},
   "outputs": [],
   "source": [
    "Xe = []\n",
    "Ye = []\n",
    "\n",
    "for node in node_dct.values():\n",
    "    if node['x_l'] != None and node['y_l'] != None:\n",
    "        Xe += node['x_l']\n",
    "        Ye += node['y_l']\n",
    "\n",
    "Xn = [node['x'] for node in node_dct.values()]\n",
    "Yn = [node['y'] for node in node_dct.values()]"
   ]
  },
  {
   "cell_type": "code",
   "execution_count": 26,
   "metadata": {},
   "outputs": [],
   "source": [
    "for node in node_dct.keys():\n",
    "    node_dct[node]['text'] = f\"ID : {node}<br>\"\n",
    "    node_dct[node]['text'] += f\"year : {node_dct[node]['date'].split('-')[0]}<br>\"\n",
    "    node_dct[node]['text'] += f\"song : {node_dct[node]['song']}<br>\"\n",
    "    node_dct[node]['text'] += f\"artist : {node_dct[node]['artist']}<br>\"\n",
    "    node_dct[node]['text'] += f\"rank : {node_dct[node]['rank']}<br>\"\n",
    "\n"
   ]
  },
  {
   "cell_type": "code",
   "execution_count": 27,
   "metadata": {},
   "outputs": [
    {
     "output_type": "execute_result",
     "data": {
      "text/plain": [
       "          date rank                      song  \\\n",
       "1   1958-08-04    1          Poor Little Fool   \n",
       "4   1958-08-04    9  Willie And The Hand Jive   \n",
       "5   1958-08-04    7                Yakety Yak   \n",
       "6   1958-08-04    5                      When   \n",
       "7   1958-08-04    3             Splish Splash   \n",
       "12  1958-08-04   10                     Fever   \n",
       "13  1958-08-04    8              My True Love   \n",
       "14  1958-08-04    6             Rebel-'rouser   \n",
       "15  1958-08-04    4         Hard Headed Woman   \n",
       "16  1958-08-04    2                  Patricia   \n",
       "\n",
       "                                         artist last_weak peak_rank  \\\n",
       "1                                  Ricky Nelson         0         1   \n",
       "4                          The Johnny Otis Show         0         9   \n",
       "5                                  The Coasters         0         7   \n",
       "6                                   Kalin Twins         0         5   \n",
       "7                                   Bobby Darin         0         3   \n",
       "12                                    Peggy Lee         0        10   \n",
       "13                                   Jack Scott         0         8   \n",
       "14  Duane Eddy His Twangy Guitar And The Rebels         0         6   \n",
       "15           Elvis Presley With The Jordanaires         0         4   \n",
       "16                Perez Prado And His Orchestra         0         2   \n",
       "\n",
       "   weaks_on_board   root father orientation_n   x   y       x_l       y_l  \\\n",
       "1               1   True   None          None   0   0      None      None   \n",
       "4               1  False      5          left  -3  -5  [-2, -3]  [-4, -5]   \n",
       "5               1  False      6          left  -2  -4  [-1, -2]  [-3, -4]   \n",
       "6               1  False      7          left  -1  -3   [0, -1]  [-2, -3]   \n",
       "7               1  False     16          left   0  -2    [1, 0]  [-1, -2]   \n",
       "12              1  False     13          left  -2  -6  [-1, -2]  [-5, -6]   \n",
       "13              1  False     14          left  -1  -5   [0, -1]  [-4, -5]   \n",
       "14              1  False     15          left   0  -4    [1, 0]  [-3, -4]   \n",
       "15              1  False      7         right   1  -3    [0, 1]  [-2, -3]   \n",
       "16              1  False      1         right   1  -1    [0, 1]   [0, -1]   \n",
       "\n",
       "                                                 text  \n",
       "1   ID : 1<br>year : 1958<br>song : Poor Little Fo...  \n",
       "4   ID : 4<br>year : 1958<br>song : Willie And The...  \n",
       "5   ID : 5<br>year : 1958<br>song : Yakety Yak<br>...  \n",
       "6   ID : 6<br>year : 1958<br>song : When<br>artist...  \n",
       "7   ID : 7<br>year : 1958<br>song : Splish Splash<...  \n",
       "12  ID : 12<br>year : 1958<br>song : Fever<br>arti...  \n",
       "13  ID : 13<br>year : 1958<br>song : My True Love<...  \n",
       "14  ID : 14<br>year : 1958<br>song : Rebel-'rouser...  \n",
       "15  ID : 15<br>year : 1958<br>song : Hard Headed W...  \n",
       "16  ID : 16<br>year : 1958<br>song : Patricia<br>a...  "
      ],
      "text/html": "<div>\n<style scoped>\n    .dataframe tbody tr th:only-of-type {\n        vertical-align: middle;\n    }\n\n    .dataframe tbody tr th {\n        vertical-align: top;\n    }\n\n    .dataframe thead th {\n        text-align: right;\n    }\n</style>\n<table border=\"1\" class=\"dataframe\">\n  <thead>\n    <tr style=\"text-align: right;\">\n      <th></th>\n      <th>date</th>\n      <th>rank</th>\n      <th>song</th>\n      <th>artist</th>\n      <th>last_weak</th>\n      <th>peak_rank</th>\n      <th>weaks_on_board</th>\n      <th>root</th>\n      <th>father</th>\n      <th>orientation_n</th>\n      <th>x</th>\n      <th>y</th>\n      <th>x_l</th>\n      <th>y_l</th>\n      <th>text</th>\n    </tr>\n  </thead>\n  <tbody>\n    <tr>\n      <th>1</th>\n      <td>1958-08-04</td>\n      <td>1</td>\n      <td>Poor Little Fool</td>\n      <td>Ricky Nelson</td>\n      <td>0</td>\n      <td>1</td>\n      <td>1</td>\n      <td>True</td>\n      <td>None</td>\n      <td>None</td>\n      <td>0</td>\n      <td>0</td>\n      <td>None</td>\n      <td>None</td>\n      <td>ID : 1&lt;br&gt;year : 1958&lt;br&gt;song : Poor Little Fo...</td>\n    </tr>\n    <tr>\n      <th>4</th>\n      <td>1958-08-04</td>\n      <td>9</td>\n      <td>Willie And The Hand Jive</td>\n      <td>The Johnny Otis Show</td>\n      <td>0</td>\n      <td>9</td>\n      <td>1</td>\n      <td>False</td>\n      <td>5</td>\n      <td>left</td>\n      <td>-3</td>\n      <td>-5</td>\n      <td>[-2, -3]</td>\n      <td>[-4, -5]</td>\n      <td>ID : 4&lt;br&gt;year : 1958&lt;br&gt;song : Willie And The...</td>\n    </tr>\n    <tr>\n      <th>5</th>\n      <td>1958-08-04</td>\n      <td>7</td>\n      <td>Yakety Yak</td>\n      <td>The Coasters</td>\n      <td>0</td>\n      <td>7</td>\n      <td>1</td>\n      <td>False</td>\n      <td>6</td>\n      <td>left</td>\n      <td>-2</td>\n      <td>-4</td>\n      <td>[-1, -2]</td>\n      <td>[-3, -4]</td>\n      <td>ID : 5&lt;br&gt;year : 1958&lt;br&gt;song : Yakety Yak&lt;br&gt;...</td>\n    </tr>\n    <tr>\n      <th>6</th>\n      <td>1958-08-04</td>\n      <td>5</td>\n      <td>When</td>\n      <td>Kalin Twins</td>\n      <td>0</td>\n      <td>5</td>\n      <td>1</td>\n      <td>False</td>\n      <td>7</td>\n      <td>left</td>\n      <td>-1</td>\n      <td>-3</td>\n      <td>[0, -1]</td>\n      <td>[-2, -3]</td>\n      <td>ID : 6&lt;br&gt;year : 1958&lt;br&gt;song : When&lt;br&gt;artist...</td>\n    </tr>\n    <tr>\n      <th>7</th>\n      <td>1958-08-04</td>\n      <td>3</td>\n      <td>Splish Splash</td>\n      <td>Bobby Darin</td>\n      <td>0</td>\n      <td>3</td>\n      <td>1</td>\n      <td>False</td>\n      <td>16</td>\n      <td>left</td>\n      <td>0</td>\n      <td>-2</td>\n      <td>[1, 0]</td>\n      <td>[-1, -2]</td>\n      <td>ID : 7&lt;br&gt;year : 1958&lt;br&gt;song : Splish Splash&lt;...</td>\n    </tr>\n    <tr>\n      <th>12</th>\n      <td>1958-08-04</td>\n      <td>10</td>\n      <td>Fever</td>\n      <td>Peggy Lee</td>\n      <td>0</td>\n      <td>10</td>\n      <td>1</td>\n      <td>False</td>\n      <td>13</td>\n      <td>left</td>\n      <td>-2</td>\n      <td>-6</td>\n      <td>[-1, -2]</td>\n      <td>[-5, -6]</td>\n      <td>ID : 12&lt;br&gt;year : 1958&lt;br&gt;song : Fever&lt;br&gt;arti...</td>\n    </tr>\n    <tr>\n      <th>13</th>\n      <td>1958-08-04</td>\n      <td>8</td>\n      <td>My True Love</td>\n      <td>Jack Scott</td>\n      <td>0</td>\n      <td>8</td>\n      <td>1</td>\n      <td>False</td>\n      <td>14</td>\n      <td>left</td>\n      <td>-1</td>\n      <td>-5</td>\n      <td>[0, -1]</td>\n      <td>[-4, -5]</td>\n      <td>ID : 13&lt;br&gt;year : 1958&lt;br&gt;song : My True Love&lt;...</td>\n    </tr>\n    <tr>\n      <th>14</th>\n      <td>1958-08-04</td>\n      <td>6</td>\n      <td>Rebel-'rouser</td>\n      <td>Duane Eddy His Twangy Guitar And The Rebels</td>\n      <td>0</td>\n      <td>6</td>\n      <td>1</td>\n      <td>False</td>\n      <td>15</td>\n      <td>left</td>\n      <td>0</td>\n      <td>-4</td>\n      <td>[1, 0]</td>\n      <td>[-3, -4]</td>\n      <td>ID : 14&lt;br&gt;year : 1958&lt;br&gt;song : Rebel-'rouser...</td>\n    </tr>\n    <tr>\n      <th>15</th>\n      <td>1958-08-04</td>\n      <td>4</td>\n      <td>Hard Headed Woman</td>\n      <td>Elvis Presley With The Jordanaires</td>\n      <td>0</td>\n      <td>4</td>\n      <td>1</td>\n      <td>False</td>\n      <td>7</td>\n      <td>right</td>\n      <td>1</td>\n      <td>-3</td>\n      <td>[0, 1]</td>\n      <td>[-2, -3]</td>\n      <td>ID : 15&lt;br&gt;year : 1958&lt;br&gt;song : Hard Headed W...</td>\n    </tr>\n    <tr>\n      <th>16</th>\n      <td>1958-08-04</td>\n      <td>2</td>\n      <td>Patricia</td>\n      <td>Perez Prado And His Orchestra</td>\n      <td>0</td>\n      <td>2</td>\n      <td>1</td>\n      <td>False</td>\n      <td>1</td>\n      <td>right</td>\n      <td>1</td>\n      <td>-1</td>\n      <td>[0, 1]</td>\n      <td>[0, -1]</td>\n      <td>ID : 16&lt;br&gt;year : 1958&lt;br&gt;song : Patricia&lt;br&gt;a...</td>\n    </tr>\n  </tbody>\n</table>\n</div>"
     },
     "metadata": {},
     "execution_count": 27
    }
   ],
   "source": [
    "import pandas as pd\n",
    "df = pd.DataFrame(node_dct).T\n",
    "df"
   ]
  },
  {
   "cell_type": "code",
   "execution_count": 28,
   "metadata": {},
   "outputs": [
    {
     "output_type": "display_data",
     "data": {
      "application/vnd.plotly.v1+json": {
       "config": {
        "plotlyServerURL": "https://plot.ly"
       },
       "data": [
        {
         "hoverinfo": "none",
         "line": {
          "color": "rgb(210,210,210)",
          "width": 3
         },
         "mode": "lines",
         "name": "line",
         "type": "scatter",
         "x": [
          -2,
          -3,
          -1,
          -2,
          0,
          -1,
          1,
          0,
          -1,
          -2,
          0,
          -1,
          1,
          0,
          0,
          1,
          0,
          1
         ],
         "y": [
          -4,
          -5,
          -3,
          -4,
          -2,
          -3,
          -1,
          -2,
          -5,
          -6,
          -4,
          -5,
          -3,
          -4,
          -2,
          -3,
          0,
          -1
         ]
        },
        {
         "hovertemplate": "%{text}",
         "marker": {
          "color": "black",
          "line": {
           "color": "rgb(50,50,50)",
           "width": 1
          },
          "size": 18,
          "symbol": "circle-dot"
         },
         "mode": "markers",
         "name": "node",
         "opacity": 0.8,
         "text": [
          "ID : 1<br>year : 1958<br>song : Poor Little Fool<br>artist : Ricky Nelson<br>rank : 1<br>",
          "ID : 4<br>year : 1958<br>song : Willie And The Hand Jive<br>artist : The Johnny Otis Show<br>rank : 9<br>",
          "ID : 5<br>year : 1958<br>song : Yakety Yak<br>artist : The Coasters<br>rank : 7<br>",
          "ID : 6<br>year : 1958<br>song : When<br>artist : Kalin Twins<br>rank : 5<br>",
          "ID : 7<br>year : 1958<br>song : Splish Splash<br>artist : Bobby Darin<br>rank : 3<br>",
          "ID : 12<br>year : 1958<br>song : Fever<br>artist : Peggy Lee<br>rank : 10<br>",
          "ID : 13<br>year : 1958<br>song : My True Love<br>artist : Jack Scott<br>rank : 8<br>",
          "ID : 14<br>year : 1958<br>song : Rebel-'rouser<br>artist : Duane Eddy His Twangy Guitar And The Rebels<br>rank : 6<br>",
          "ID : 15<br>year : 1958<br>song : Hard Headed Woman<br>artist : Elvis Presley With The Jordanaires<br>rank : 4<br>",
          "ID : 16<br>year : 1958<br>song : Patricia<br>artist : Perez Prado And His Orchestra<br>rank : 2<br>"
         ],
         "type": "scatter",
         "x": [
          0,
          -3,
          -2,
          -1,
          0,
          -2,
          -1,
          0,
          1,
          1
         ],
         "y": [
          0,
          -5,
          -4,
          -3,
          -2,
          -6,
          -5,
          -4,
          -3,
          -1
         ]
        }
       ],
       "layout": {
        "template": {
         "data": {
          "bar": [
           {
            "error_x": {
             "color": "#2a3f5f"
            },
            "error_y": {
             "color": "#2a3f5f"
            },
            "marker": {
             "line": {
              "color": "#E5ECF6",
              "width": 0.5
             }
            },
            "type": "bar"
           }
          ],
          "barpolar": [
           {
            "marker": {
             "line": {
              "color": "#E5ECF6",
              "width": 0.5
             }
            },
            "type": "barpolar"
           }
          ],
          "carpet": [
           {
            "aaxis": {
             "endlinecolor": "#2a3f5f",
             "gridcolor": "white",
             "linecolor": "white",
             "minorgridcolor": "white",
             "startlinecolor": "#2a3f5f"
            },
            "baxis": {
             "endlinecolor": "#2a3f5f",
             "gridcolor": "white",
             "linecolor": "white",
             "minorgridcolor": "white",
             "startlinecolor": "#2a3f5f"
            },
            "type": "carpet"
           }
          ],
          "choropleth": [
           {
            "colorbar": {
             "outlinewidth": 0,
             "ticks": ""
            },
            "type": "choropleth"
           }
          ],
          "contour": [
           {
            "colorbar": {
             "outlinewidth": 0,
             "ticks": ""
            },
            "colorscale": [
             [
              0,
              "#0d0887"
             ],
             [
              0.1111111111111111,
              "#46039f"
             ],
             [
              0.2222222222222222,
              "#7201a8"
             ],
             [
              0.3333333333333333,
              "#9c179e"
             ],
             [
              0.4444444444444444,
              "#bd3786"
             ],
             [
              0.5555555555555556,
              "#d8576b"
             ],
             [
              0.6666666666666666,
              "#ed7953"
             ],
             [
              0.7777777777777778,
              "#fb9f3a"
             ],
             [
              0.8888888888888888,
              "#fdca26"
             ],
             [
              1,
              "#f0f921"
             ]
            ],
            "type": "contour"
           }
          ],
          "contourcarpet": [
           {
            "colorbar": {
             "outlinewidth": 0,
             "ticks": ""
            },
            "type": "contourcarpet"
           }
          ],
          "heatmap": [
           {
            "colorbar": {
             "outlinewidth": 0,
             "ticks": ""
            },
            "colorscale": [
             [
              0,
              "#0d0887"
             ],
             [
              0.1111111111111111,
              "#46039f"
             ],
             [
              0.2222222222222222,
              "#7201a8"
             ],
             [
              0.3333333333333333,
              "#9c179e"
             ],
             [
              0.4444444444444444,
              "#bd3786"
             ],
             [
              0.5555555555555556,
              "#d8576b"
             ],
             [
              0.6666666666666666,
              "#ed7953"
             ],
             [
              0.7777777777777778,
              "#fb9f3a"
             ],
             [
              0.8888888888888888,
              "#fdca26"
             ],
             [
              1,
              "#f0f921"
             ]
            ],
            "type": "heatmap"
           }
          ],
          "heatmapgl": [
           {
            "colorbar": {
             "outlinewidth": 0,
             "ticks": ""
            },
            "colorscale": [
             [
              0,
              "#0d0887"
             ],
             [
              0.1111111111111111,
              "#46039f"
             ],
             [
              0.2222222222222222,
              "#7201a8"
             ],
             [
              0.3333333333333333,
              "#9c179e"
             ],
             [
              0.4444444444444444,
              "#bd3786"
             ],
             [
              0.5555555555555556,
              "#d8576b"
             ],
             [
              0.6666666666666666,
              "#ed7953"
             ],
             [
              0.7777777777777778,
              "#fb9f3a"
             ],
             [
              0.8888888888888888,
              "#fdca26"
             ],
             [
              1,
              "#f0f921"
             ]
            ],
            "type": "heatmapgl"
           }
          ],
          "histogram": [
           {
            "marker": {
             "colorbar": {
              "outlinewidth": 0,
              "ticks": ""
             }
            },
            "type": "histogram"
           }
          ],
          "histogram2d": [
           {
            "colorbar": {
             "outlinewidth": 0,
             "ticks": ""
            },
            "colorscale": [
             [
              0,
              "#0d0887"
             ],
             [
              0.1111111111111111,
              "#46039f"
             ],
             [
              0.2222222222222222,
              "#7201a8"
             ],
             [
              0.3333333333333333,
              "#9c179e"
             ],
             [
              0.4444444444444444,
              "#bd3786"
             ],
             [
              0.5555555555555556,
              "#d8576b"
             ],
             [
              0.6666666666666666,
              "#ed7953"
             ],
             [
              0.7777777777777778,
              "#fb9f3a"
             ],
             [
              0.8888888888888888,
              "#fdca26"
             ],
             [
              1,
              "#f0f921"
             ]
            ],
            "type": "histogram2d"
           }
          ],
          "histogram2dcontour": [
           {
            "colorbar": {
             "outlinewidth": 0,
             "ticks": ""
            },
            "colorscale": [
             [
              0,
              "#0d0887"
             ],
             [
              0.1111111111111111,
              "#46039f"
             ],
             [
              0.2222222222222222,
              "#7201a8"
             ],
             [
              0.3333333333333333,
              "#9c179e"
             ],
             [
              0.4444444444444444,
              "#bd3786"
             ],
             [
              0.5555555555555556,
              "#d8576b"
             ],
             [
              0.6666666666666666,
              "#ed7953"
             ],
             [
              0.7777777777777778,
              "#fb9f3a"
             ],
             [
              0.8888888888888888,
              "#fdca26"
             ],
             [
              1,
              "#f0f921"
             ]
            ],
            "type": "histogram2dcontour"
           }
          ],
          "mesh3d": [
           {
            "colorbar": {
             "outlinewidth": 0,
             "ticks": ""
            },
            "type": "mesh3d"
           }
          ],
          "parcoords": [
           {
            "line": {
             "colorbar": {
              "outlinewidth": 0,
              "ticks": ""
             }
            },
            "type": "parcoords"
           }
          ],
          "pie": [
           {
            "automargin": true,
            "type": "pie"
           }
          ],
          "scatter": [
           {
            "marker": {
             "colorbar": {
              "outlinewidth": 0,
              "ticks": ""
             }
            },
            "type": "scatter"
           }
          ],
          "scatter3d": [
           {
            "line": {
             "colorbar": {
              "outlinewidth": 0,
              "ticks": ""
             }
            },
            "marker": {
             "colorbar": {
              "outlinewidth": 0,
              "ticks": ""
             }
            },
            "type": "scatter3d"
           }
          ],
          "scattercarpet": [
           {
            "marker": {
             "colorbar": {
              "outlinewidth": 0,
              "ticks": ""
             }
            },
            "type": "scattercarpet"
           }
          ],
          "scattergeo": [
           {
            "marker": {
             "colorbar": {
              "outlinewidth": 0,
              "ticks": ""
             }
            },
            "type": "scattergeo"
           }
          ],
          "scattergl": [
           {
            "marker": {
             "colorbar": {
              "outlinewidth": 0,
              "ticks": ""
             }
            },
            "type": "scattergl"
           }
          ],
          "scattermapbox": [
           {
            "marker": {
             "colorbar": {
              "outlinewidth": 0,
              "ticks": ""
             }
            },
            "type": "scattermapbox"
           }
          ],
          "scatterpolar": [
           {
            "marker": {
             "colorbar": {
              "outlinewidth": 0,
              "ticks": ""
             }
            },
            "type": "scatterpolar"
           }
          ],
          "scatterpolargl": [
           {
            "marker": {
             "colorbar": {
              "outlinewidth": 0,
              "ticks": ""
             }
            },
            "type": "scatterpolargl"
           }
          ],
          "scatterternary": [
           {
            "marker": {
             "colorbar": {
              "outlinewidth": 0,
              "ticks": ""
             }
            },
            "type": "scatterternary"
           }
          ],
          "surface": [
           {
            "colorbar": {
             "outlinewidth": 0,
             "ticks": ""
            },
            "colorscale": [
             [
              0,
              "#0d0887"
             ],
             [
              0.1111111111111111,
              "#46039f"
             ],
             [
              0.2222222222222222,
              "#7201a8"
             ],
             [
              0.3333333333333333,
              "#9c179e"
             ],
             [
              0.4444444444444444,
              "#bd3786"
             ],
             [
              0.5555555555555556,
              "#d8576b"
             ],
             [
              0.6666666666666666,
              "#ed7953"
             ],
             [
              0.7777777777777778,
              "#fb9f3a"
             ],
             [
              0.8888888888888888,
              "#fdca26"
             ],
             [
              1,
              "#f0f921"
             ]
            ],
            "type": "surface"
           }
          ],
          "table": [
           {
            "cells": {
             "fill": {
              "color": "#EBF0F8"
             },
             "line": {
              "color": "white"
             }
            },
            "header": {
             "fill": {
              "color": "#C8D4E3"
             },
             "line": {
              "color": "white"
             }
            },
            "type": "table"
           }
          ]
         },
         "layout": {
          "annotationdefaults": {
           "arrowcolor": "#2a3f5f",
           "arrowhead": 0,
           "arrowwidth": 1
          },
          "autotypenumbers": "strict",
          "coloraxis": {
           "colorbar": {
            "outlinewidth": 0,
            "ticks": ""
           }
          },
          "colorscale": {
           "diverging": [
            [
             0,
             "#8e0152"
            ],
            [
             0.1,
             "#c51b7d"
            ],
            [
             0.2,
             "#de77ae"
            ],
            [
             0.3,
             "#f1b6da"
            ],
            [
             0.4,
             "#fde0ef"
            ],
            [
             0.5,
             "#f7f7f7"
            ],
            [
             0.6,
             "#e6f5d0"
            ],
            [
             0.7,
             "#b8e186"
            ],
            [
             0.8,
             "#7fbc41"
            ],
            [
             0.9,
             "#4d9221"
            ],
            [
             1,
             "#276419"
            ]
           ],
           "sequential": [
            [
             0,
             "#0d0887"
            ],
            [
             0.1111111111111111,
             "#46039f"
            ],
            [
             0.2222222222222222,
             "#7201a8"
            ],
            [
             0.3333333333333333,
             "#9c179e"
            ],
            [
             0.4444444444444444,
             "#bd3786"
            ],
            [
             0.5555555555555556,
             "#d8576b"
            ],
            [
             0.6666666666666666,
             "#ed7953"
            ],
            [
             0.7777777777777778,
             "#fb9f3a"
            ],
            [
             0.8888888888888888,
             "#fdca26"
            ],
            [
             1,
             "#f0f921"
            ]
           ],
           "sequentialminus": [
            [
             0,
             "#0d0887"
            ],
            [
             0.1111111111111111,
             "#46039f"
            ],
            [
             0.2222222222222222,
             "#7201a8"
            ],
            [
             0.3333333333333333,
             "#9c179e"
            ],
            [
             0.4444444444444444,
             "#bd3786"
            ],
            [
             0.5555555555555556,
             "#d8576b"
            ],
            [
             0.6666666666666666,
             "#ed7953"
            ],
            [
             0.7777777777777778,
             "#fb9f3a"
            ],
            [
             0.8888888888888888,
             "#fdca26"
            ],
            [
             1,
             "#f0f921"
            ]
           ]
          },
          "colorway": [
           "#636efa",
           "#EF553B",
           "#00cc96",
           "#ab63fa",
           "#FFA15A",
           "#19d3f3",
           "#FF6692",
           "#B6E880",
           "#FF97FF",
           "#FECB52"
          ],
          "font": {
           "color": "#2a3f5f"
          },
          "geo": {
           "bgcolor": "white",
           "lakecolor": "white",
           "landcolor": "#E5ECF6",
           "showlakes": true,
           "showland": true,
           "subunitcolor": "white"
          },
          "hoverlabel": {
           "align": "left"
          },
          "hovermode": "closest",
          "mapbox": {
           "style": "light"
          },
          "paper_bgcolor": "white",
          "plot_bgcolor": "#E5ECF6",
          "polar": {
           "angularaxis": {
            "gridcolor": "white",
            "linecolor": "white",
            "ticks": ""
           },
           "bgcolor": "#E5ECF6",
           "radialaxis": {
            "gridcolor": "white",
            "linecolor": "white",
            "ticks": ""
           }
          },
          "scene": {
           "xaxis": {
            "backgroundcolor": "#E5ECF6",
            "gridcolor": "white",
            "gridwidth": 2,
            "linecolor": "white",
            "showbackground": true,
            "ticks": "",
            "zerolinecolor": "white"
           },
           "yaxis": {
            "backgroundcolor": "#E5ECF6",
            "gridcolor": "white",
            "gridwidth": 2,
            "linecolor": "white",
            "showbackground": true,
            "ticks": "",
            "zerolinecolor": "white"
           },
           "zaxis": {
            "backgroundcolor": "#E5ECF6",
            "gridcolor": "white",
            "gridwidth": 2,
            "linecolor": "white",
            "showbackground": true,
            "ticks": "",
            "zerolinecolor": "white"
           }
          },
          "shapedefaults": {
           "line": {
            "color": "#2a3f5f"
           }
          },
          "ternary": {
           "aaxis": {
            "gridcolor": "white",
            "linecolor": "white",
            "ticks": ""
           },
           "baxis": {
            "gridcolor": "white",
            "linecolor": "white",
            "ticks": ""
           },
           "bgcolor": "#E5ECF6",
           "caxis": {
            "gridcolor": "white",
            "linecolor": "white",
            "ticks": ""
           }
          },
          "title": {
           "x": 0.05
          },
          "xaxis": {
           "automargin": true,
           "gridcolor": "white",
           "linecolor": "white",
           "ticks": "",
           "title": {
            "standoff": 15
           },
           "zerolinecolor": "white",
           "zerolinewidth": 2
          },
          "yaxis": {
           "automargin": true,
           "gridcolor": "white",
           "linecolor": "white",
           "ticks": "",
           "title": {
            "standoff": 15
           },
           "zerolinecolor": "white",
           "zerolinewidth": 2
          }
         }
        }
       }
      }
     },
     "metadata": {}
    }
   ],
   "source": [
    "import plotly.graph_objects as go\n",
    "\n",
    "fig = go.Figure()\n",
    "fig.add_trace(go.Scatter(\n",
    "                   x=Xe,\n",
    "                   y=Ye,\n",
    "                   mode='lines',\n",
    "                   name='line',\n",
    "                   line=dict(color='rgb(210,210,210)', width=3),\n",
    "                   hoverinfo='none'\n",
    "                   ))\n",
    "\n",
    "fig.add_trace(go.Scatter(\n",
    "                  x=df['x'],\n",
    "                  y=df['y'],\n",
    "                  mode='markers',\n",
    "                  name='node',\n",
    "                  text=df['text'],\n",
    "                  marker=dict(symbol='circle-dot',\n",
    "                                size=18,\n",
    "                                color='black',    #'#DB4551',\n",
    "                                line=dict(color='rgb(50,50,50)', width=1)\n",
    "                                ),\n",
    "                  hovertemplate='%{text}',\n",
    "                  opacity=0.8\n",
    "                  ))"
   ]
  },
  {
   "cell_type": "code",
   "execution_count": null,
   "metadata": {},
   "outputs": [],
   "source": []
  }
 ]
}