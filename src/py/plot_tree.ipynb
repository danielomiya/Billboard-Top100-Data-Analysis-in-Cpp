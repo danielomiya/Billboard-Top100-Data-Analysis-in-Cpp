{
 "metadata": {
  "language_info": {
   "codemirror_mode": {
    "name": "ipython",
    "version": 3
   },
   "file_extension": ".py",
   "mimetype": "text/x-python",
   "name": "python",
   "nbconvert_exporter": "python",
   "pygments_lexer": "ipython3",
   "version": "3.8.3-final"
  },
  "orig_nbformat": 2,
  "kernelspec": {
   "name": "python383jvsc74a57bd0245f1f936248126a9407f95819ca1de09eec9b8184a32caf3bed17db4c7234b7",
   "display_name": "Python 3.8.3 64-bit (conda)"
  }
 },
 "nbformat": 4,
 "nbformat_minor": 2,
 "cells": [
  {
   "cell_type": "code",
   "execution_count": 28,
   "metadata": {},
   "outputs": [
    {
     "output_type": "stream",
     "name": "stdout",
     "text": [
      "C:\\Users\\oihugu\\Desktop\\dev\\C++\\Billboard-Top100-Data-Analysis-in-Cpp\n"
     ]
    }
   ],
   "source": [
    "cd C:\\Users\\oihugu\\Desktop\\dev\\C++\\Billboard-Top100-Data-Analysis-in-Cpp\\"
   ]
  },
  {
   "cell_type": "code",
   "execution_count": 26,
   "metadata": {},
   "outputs": [
    {
     "output_type": "stream",
     "name": "stdout",
     "text": [
      "c:\\Users\\oihugu\\Desktop\\dev\n"
     ]
    }
   ],
   "source": [
    "cd ../.."
   ]
  },
  {
   "cell_type": "code",
   "execution_count": 75,
   "metadata": {},
   "outputs": [],
   "source": [
    "import json\n",
    "\n",
    "with open('data/output/tree.json') as file:\n",
    "    raw = file.read()\n",
    "\n",
    "node_dct = json.loads(raw)"
   ]
  },
  {
   "cell_type": "code",
   "execution_count": 140,
   "metadata": {},
   "outputs": [],
   "source": [
    "wait_list = []\n",
    "for node in node_dct.values():\n",
    "\n",
    "    if node['root'] == 'True':\n",
    "        node['x'] = 0\n",
    "        node['y'] = 0\n",
    "        node['x_l'] = None\n",
    "        node['y_l'] = None\n",
    "\n",
    "    else:\n",
    "        if node != None:\n",
    "\n",
    "            father_node = node_dct[node['father']]\n",
    "\n",
    "            if node['orientation_n'] == 'left':\n",
    "                if father_node['x'] != 0:\n",
    "                    node['x'] = (father_node['x'] - 1) - (father_node['x']/abs(father_node['x']))/(father_node['y'])\n",
    "                else:\n",
    "                    node['x'] = (father_node['x'] - 1) - (len(node_dct) - father_node['y'])\n",
    "                node['y'] = father_node['y'] - 1\n",
    "\n",
    "            if node['orientation_n'] == 'right':\n",
    "                if father_node['x'] != 0:\n",
    "                    node['x'] = (father_node['x'] + 1) + (father_node['x']/abs(father_node['x']))/(father_node['y'])\n",
    "                else:\n",
    "                    node['x'] = (father_node['x'] + 1) + (len(node_dct) - father_node['y'])\n",
    "                \n",
    "                ''\n",
    "                node['y'] = father_node['y'] - 1\n",
    "\n",
    "            node['x_l'] = [father_node['x'], node['x']]\n",
    "            node['y_l'] = [father_node['y'], node['y']]\n"
   ]
  },
  {
   "cell_type": "code",
   "execution_count": 141,
   "metadata": {},
   "outputs": [],
   "source": [
    "Xe = []\n",
    "Ye = []\n",
    "\n",
    "for node in node_dct.values():\n",
    "    if node['x_l'] != None and node['y_l'] != None:\n",
    "        Xe += node['x_l']\n",
    "        Ye += node['y_l']\n",
    "\n",
    "Xn = [node['x'] for node in node_dct.values()]\n",
    "Yn = [node['y'] for node in node_dct.values()]"
   ]
  },
  {
   "cell_type": "code",
   "execution_count": 142,
   "metadata": {},
   "outputs": [],
   "source": [
    "for node in node_dct.keys():\n",
    "    node_dct[node]['text'] = f\"ID : {node}<br>\"\n",
    "    node_dct[node]['text'] += f\"year : {node_dct[node]['date'].split('-')[0]}<br>\"\n",
    "    node_dct[node]['text'] += f\"song : {node_dct[node]['song']}<br>\"\n",
    "    node_dct[node]['text'] += f\"artist : {node_dct[node]['artist']}<br>\"\n",
    "    node_dct[node]['text'] += f\"rank : {node_dct[node]['rank']}<br>\"\n",
    "\n"
   ]
  },
  {
   "cell_type": "code",
   "execution_count": 143,
   "metadata": {},
   "outputs": [],
   "source": [
    "import pandas as pd\n",
    "df = pd.DataFrame(node_dct).T"
   ]
  },
  {
   "cell_type": "code",
   "execution_count": 132,
   "metadata": {},
   "outputs": [
    {
     "output_type": "display_data",
     "data": {
      "application/vnd.plotly.v1+json": {
       "config": {
        "plotlyServerURL": "https://plot.ly"
       },
       "data": [
        {
         "line": {
          "color": "rgb(210,210,210)",
          "width": 3
         },
         "mode": "lines",
         "name": "line",
         "type": "scatter",
         "x": [
          0,
          11,
          11,
          -1,
          -1,
          10,
          10,
          -4,
          -4,
          -17,
          -1,
          -12,
          -12,
          -24,
          11,
          23,
          23,
          36
         ],
         "y": [
          0,
          -1,
          -1,
          -2,
          -2,
          -3,
          -3,
          -4,
          -4,
          -5,
          -2,
          -3,
          -3,
          -4,
          -1,
          -2,
          -2,
          -3
         ]
        },
        {
         "hovertemplate": "%{text}",
         "marker": {
          "color": "black",
          "line": {
           "color": "rgb(50,50,50)",
           "width": 1
          },
          "size": 18,
          "symbol": "circle-dot"
         },
         "mode": "markers",
         "name": "node",
         "opacity": 0.8,
         "text": [
          "ID : 41<br>year : 1958<br>song : Poor Little Fool<br>artist : Ricky Nelson<br>rank : 1<br>",
          "ID : 8467<br>year : 1958<br>song : Patricia<br>artist : Perez Prado And His Orchestra<br>rank : 2<br>",
          "ID : 6334<br>year : 1958<br>song : Splish Splash<br>artist : Bobby Darin<br>rank : 3<br>",
          "ID : 5724<br>year : 1958<br>song : Rebel-'rouser<br>artist : Duane Eddy His Twangy Guitar And The Rebels<br>rank : 6<br>",
          "ID : 1478<br>year : 1958<br>song : Yakety Yak<br>artist : The Coasters<br>rank : 7<br>",
          "ID : 4464<br>year : 1958<br>song : Fever<br>artist : Peggy Lee<br>rank : 10<br>",
          "ID : 6500<br>year : 1958<br>song : Hard Headed Woman<br>artist : Elvis Presley With The Jordanaires<br>rank : 4<br>",
          "ID : 6962<br>year : 1958<br>song : Willie And The Hand Jive<br>artist : The Johnny Otis Show<br>rank : 9<br>",
          "ID : 9169<br>year : 1958<br>song : When<br>artist : Kalin Twins<br>rank : 5<br>",
          "ID : 9358<br>year : 1958<br>song : My True Love<br>artist : Jack Scott<br>rank : 8<br>"
         ],
         "type": "scatter",
         "x": [
          0,
          11,
          -1,
          10,
          -4,
          -17,
          -12,
          -24,
          23,
          36
         ],
         "y": [
          0,
          -1,
          -2,
          -3,
          -4,
          -5,
          -3,
          -4,
          -2,
          -3
         ]
        }
       ],
       "layout": {
        "template": {
         "data": {
          "bar": [
           {
            "error_x": {
             "color": "#2a3f5f"
            },
            "error_y": {
             "color": "#2a3f5f"
            },
            "marker": {
             "line": {
              "color": "#E5ECF6",
              "width": 0.5
             }
            },
            "type": "bar"
           }
          ],
          "barpolar": [
           {
            "marker": {
             "line": {
              "color": "#E5ECF6",
              "width": 0.5
             }
            },
            "type": "barpolar"
           }
          ],
          "carpet": [
           {
            "aaxis": {
             "endlinecolor": "#2a3f5f",
             "gridcolor": "white",
             "linecolor": "white",
             "minorgridcolor": "white",
             "startlinecolor": "#2a3f5f"
            },
            "baxis": {
             "endlinecolor": "#2a3f5f",
             "gridcolor": "white",
             "linecolor": "white",
             "minorgridcolor": "white",
             "startlinecolor": "#2a3f5f"
            },
            "type": "carpet"
           }
          ],
          "choropleth": [
           {
            "colorbar": {
             "outlinewidth": 0,
             "ticks": ""
            },
            "type": "choropleth"
           }
          ],
          "contour": [
           {
            "colorbar": {
             "outlinewidth": 0,
             "ticks": ""
            },
            "colorscale": [
             [
              0,
              "#0d0887"
             ],
             [
              0.1111111111111111,
              "#46039f"
             ],
             [
              0.2222222222222222,
              "#7201a8"
             ],
             [
              0.3333333333333333,
              "#9c179e"
             ],
             [
              0.4444444444444444,
              "#bd3786"
             ],
             [
              0.5555555555555556,
              "#d8576b"
             ],
             [
              0.6666666666666666,
              "#ed7953"
             ],
             [
              0.7777777777777778,
              "#fb9f3a"
             ],
             [
              0.8888888888888888,
              "#fdca26"
             ],
             [
              1,
              "#f0f921"
             ]
            ],
            "type": "contour"
           }
          ],
          "contourcarpet": [
           {
            "colorbar": {
             "outlinewidth": 0,
             "ticks": ""
            },
            "type": "contourcarpet"
           }
          ],
          "heatmap": [
           {
            "colorbar": {
             "outlinewidth": 0,
             "ticks": ""
            },
            "colorscale": [
             [
              0,
              "#0d0887"
             ],
             [
              0.1111111111111111,
              "#46039f"
             ],
             [
              0.2222222222222222,
              "#7201a8"
             ],
             [
              0.3333333333333333,
              "#9c179e"
             ],
             [
              0.4444444444444444,
              "#bd3786"
             ],
             [
              0.5555555555555556,
              "#d8576b"
             ],
             [
              0.6666666666666666,
              "#ed7953"
             ],
             [
              0.7777777777777778,
              "#fb9f3a"
             ],
             [
              0.8888888888888888,
              "#fdca26"
             ],
             [
              1,
              "#f0f921"
             ]
            ],
            "type": "heatmap"
           }
          ],
          "heatmapgl": [
           {
            "colorbar": {
             "outlinewidth": 0,
             "ticks": ""
            },
            "colorscale": [
             [
              0,
              "#0d0887"
             ],
             [
              0.1111111111111111,
              "#46039f"
             ],
             [
              0.2222222222222222,
              "#7201a8"
             ],
             [
              0.3333333333333333,
              "#9c179e"
             ],
             [
              0.4444444444444444,
              "#bd3786"
             ],
             [
              0.5555555555555556,
              "#d8576b"
             ],
             [
              0.6666666666666666,
              "#ed7953"
             ],
             [
              0.7777777777777778,
              "#fb9f3a"
             ],
             [
              0.8888888888888888,
              "#fdca26"
             ],
             [
              1,
              "#f0f921"
             ]
            ],
            "type": "heatmapgl"
           }
          ],
          "histogram": [
           {
            "marker": {
             "colorbar": {
              "outlinewidth": 0,
              "ticks": ""
             }
            },
            "type": "histogram"
           }
          ],
          "histogram2d": [
           {
            "colorbar": {
             "outlinewidth": 0,
             "ticks": ""
            },
            "colorscale": [
             [
              0,
              "#0d0887"
             ],
             [
              0.1111111111111111,
              "#46039f"
             ],
             [
              0.2222222222222222,
              "#7201a8"
             ],
             [
              0.3333333333333333,
              "#9c179e"
             ],
             [
              0.4444444444444444,
              "#bd3786"
             ],
             [
              0.5555555555555556,
              "#d8576b"
             ],
             [
              0.6666666666666666,
              "#ed7953"
             ],
             [
              0.7777777777777778,
              "#fb9f3a"
             ],
             [
              0.8888888888888888,
              "#fdca26"
             ],
             [
              1,
              "#f0f921"
             ]
            ],
            "type": "histogram2d"
           }
          ],
          "histogram2dcontour": [
           {
            "colorbar": {
             "outlinewidth": 0,
             "ticks": ""
            },
            "colorscale": [
             [
              0,
              "#0d0887"
             ],
             [
              0.1111111111111111,
              "#46039f"
             ],
             [
              0.2222222222222222,
              "#7201a8"
             ],
             [
              0.3333333333333333,
              "#9c179e"
             ],
             [
              0.4444444444444444,
              "#bd3786"
             ],
             [
              0.5555555555555556,
              "#d8576b"
             ],
             [
              0.6666666666666666,
              "#ed7953"
             ],
             [
              0.7777777777777778,
              "#fb9f3a"
             ],
             [
              0.8888888888888888,
              "#fdca26"
             ],
             [
              1,
              "#f0f921"
             ]
            ],
            "type": "histogram2dcontour"
           }
          ],
          "mesh3d": [
           {
            "colorbar": {
             "outlinewidth": 0,
             "ticks": ""
            },
            "type": "mesh3d"
           }
          ],
          "parcoords": [
           {
            "line": {
             "colorbar": {
              "outlinewidth": 0,
              "ticks": ""
             }
            },
            "type": "parcoords"
           }
          ],
          "pie": [
           {
            "automargin": true,
            "type": "pie"
           }
          ],
          "scatter": [
           {
            "marker": {
             "colorbar": {
              "outlinewidth": 0,
              "ticks": ""
             }
            },
            "type": "scatter"
           }
          ],
          "scatter3d": [
           {
            "line": {
             "colorbar": {
              "outlinewidth": 0,
              "ticks": ""
             }
            },
            "marker": {
             "colorbar": {
              "outlinewidth": 0,
              "ticks": ""
             }
            },
            "type": "scatter3d"
           }
          ],
          "scattercarpet": [
           {
            "marker": {
             "colorbar": {
              "outlinewidth": 0,
              "ticks": ""
             }
            },
            "type": "scattercarpet"
           }
          ],
          "scattergeo": [
           {
            "marker": {
             "colorbar": {
              "outlinewidth": 0,
              "ticks": ""
             }
            },
            "type": "scattergeo"
           }
          ],
          "scattergl": [
           {
            "marker": {
             "colorbar": {
              "outlinewidth": 0,
              "ticks": ""
             }
            },
            "type": "scattergl"
           }
          ],
          "scattermapbox": [
           {
            "marker": {
             "colorbar": {
              "outlinewidth": 0,
              "ticks": ""
             }
            },
            "type": "scattermapbox"
           }
          ],
          "scatterpolar": [
           {
            "marker": {
             "colorbar": {
              "outlinewidth": 0,
              "ticks": ""
             }
            },
            "type": "scatterpolar"
           }
          ],
          "scatterpolargl": [
           {
            "marker": {
             "colorbar": {
              "outlinewidth": 0,
              "ticks": ""
             }
            },
            "type": "scatterpolargl"
           }
          ],
          "scatterternary": [
           {
            "marker": {
             "colorbar": {
              "outlinewidth": 0,
              "ticks": ""
             }
            },
            "type": "scatterternary"
           }
          ],
          "surface": [
           {
            "colorbar": {
             "outlinewidth": 0,
             "ticks": ""
            },
            "colorscale": [
             [
              0,
              "#0d0887"
             ],
             [
              0.1111111111111111,
              "#46039f"
             ],
             [
              0.2222222222222222,
              "#7201a8"
             ],
             [
              0.3333333333333333,
              "#9c179e"
             ],
             [
              0.4444444444444444,
              "#bd3786"
             ],
             [
              0.5555555555555556,
              "#d8576b"
             ],
             [
              0.6666666666666666,
              "#ed7953"
             ],
             [
              0.7777777777777778,
              "#fb9f3a"
             ],
             [
              0.8888888888888888,
              "#fdca26"
             ],
             [
              1,
              "#f0f921"
             ]
            ],
            "type": "surface"
           }
          ],
          "table": [
           {
            "cells": {
             "fill": {
              "color": "#EBF0F8"
             },
             "line": {
              "color": "white"
             }
            },
            "header": {
             "fill": {
              "color": "#C8D4E3"
             },
             "line": {
              "color": "white"
             }
            },
            "type": "table"
           }
          ]
         },
         "layout": {
          "annotationdefaults": {
           "arrowcolor": "#2a3f5f",
           "arrowhead": 0,
           "arrowwidth": 1
          },
          "autotypenumbers": "strict",
          "coloraxis": {
           "colorbar": {
            "outlinewidth": 0,
            "ticks": ""
           }
          },
          "colorscale": {
           "diverging": [
            [
             0,
             "#8e0152"
            ],
            [
             0.1,
             "#c51b7d"
            ],
            [
             0.2,
             "#de77ae"
            ],
            [
             0.3,
             "#f1b6da"
            ],
            [
             0.4,
             "#fde0ef"
            ],
            [
             0.5,
             "#f7f7f7"
            ],
            [
             0.6,
             "#e6f5d0"
            ],
            [
             0.7,
             "#b8e186"
            ],
            [
             0.8,
             "#7fbc41"
            ],
            [
             0.9,
             "#4d9221"
            ],
            [
             1,
             "#276419"
            ]
           ],
           "sequential": [
            [
             0,
             "#0d0887"
            ],
            [
             0.1111111111111111,
             "#46039f"
            ],
            [
             0.2222222222222222,
             "#7201a8"
            ],
            [
             0.3333333333333333,
             "#9c179e"
            ],
            [
             0.4444444444444444,
             "#bd3786"
            ],
            [
             0.5555555555555556,
             "#d8576b"
            ],
            [
             0.6666666666666666,
             "#ed7953"
            ],
            [
             0.7777777777777778,
             "#fb9f3a"
            ],
            [
             0.8888888888888888,
             "#fdca26"
            ],
            [
             1,
             "#f0f921"
            ]
           ],
           "sequentialminus": [
            [
             0,
             "#0d0887"
            ],
            [
             0.1111111111111111,
             "#46039f"
            ],
            [
             0.2222222222222222,
             "#7201a8"
            ],
            [
             0.3333333333333333,
             "#9c179e"
            ],
            [
             0.4444444444444444,
             "#bd3786"
            ],
            [
             0.5555555555555556,
             "#d8576b"
            ],
            [
             0.6666666666666666,
             "#ed7953"
            ],
            [
             0.7777777777777778,
             "#fb9f3a"
            ],
            [
             0.8888888888888888,
             "#fdca26"
            ],
            [
             1,
             "#f0f921"
            ]
           ]
          },
          "colorway": [
           "#636efa",
           "#EF553B",
           "#00cc96",
           "#ab63fa",
           "#FFA15A",
           "#19d3f3",
           "#FF6692",
           "#B6E880",
           "#FF97FF",
           "#FECB52"
          ],
          "font": {
           "color": "#2a3f5f"
          },
          "geo": {
           "bgcolor": "white",
           "lakecolor": "white",
           "landcolor": "#E5ECF6",
           "showlakes": true,
           "showland": true,
           "subunitcolor": "white"
          },
          "hoverlabel": {
           "align": "left"
          },
          "hovermode": "closest",
          "mapbox": {
           "style": "light"
          },
          "paper_bgcolor": "white",
          "plot_bgcolor": "#E5ECF6",
          "polar": {
           "angularaxis": {
            "gridcolor": "white",
            "linecolor": "white",
            "ticks": ""
           },
           "bgcolor": "#E5ECF6",
           "radialaxis": {
            "gridcolor": "white",
            "linecolor": "white",
            "ticks": ""
           }
          },
          "scene": {
           "xaxis": {
            "backgroundcolor": "#E5ECF6",
            "gridcolor": "white",
            "gridwidth": 2,
            "linecolor": "white",
            "showbackground": true,
            "ticks": "",
            "zerolinecolor": "white"
           },
           "yaxis": {
            "backgroundcolor": "#E5ECF6",
            "gridcolor": "white",
            "gridwidth": 2,
            "linecolor": "white",
            "showbackground": true,
            "ticks": "",
            "zerolinecolor": "white"
           },
           "zaxis": {
            "backgroundcolor": "#E5ECF6",
            "gridcolor": "white",
            "gridwidth": 2,
            "linecolor": "white",
            "showbackground": true,
            "ticks": "",
            "zerolinecolor": "white"
           }
          },
          "shapedefaults": {
           "line": {
            "color": "#2a3f5f"
           }
          },
          "ternary": {
           "aaxis": {
            "gridcolor": "white",
            "linecolor": "white",
            "ticks": ""
           },
           "baxis": {
            "gridcolor": "white",
            "linecolor": "white",
            "ticks": ""
           },
           "bgcolor": "#E5ECF6",
           "caxis": {
            "gridcolor": "white",
            "linecolor": "white",
            "ticks": ""
           }
          },
          "title": {
           "x": 0.05
          },
          "xaxis": {
           "automargin": true,
           "gridcolor": "white",
           "linecolor": "white",
           "ticks": "",
           "title": {
            "standoff": 15
           },
           "zerolinecolor": "white",
           "zerolinewidth": 2
          },
          "yaxis": {
           "automargin": true,
           "gridcolor": "white",
           "linecolor": "white",
           "ticks": "",
           "title": {
            "standoff": 15
           },
           "zerolinecolor": "white",
           "zerolinewidth": 2
          }
         }
        }
       }
      }
     },
     "metadata": {}
    }
   ],
   "source": [
    "import plotly.graph_objects as go\n",
    "\n",
    "fig = go.Figure()\n",
    "fig.add_trace(go.Scatter(\n",
    "                   x=Xe,\n",
    "                   y=Ye,\n",
    "                   mode='lines',\n",
    "                   name='line',\n",
    "                   line=dict(color='rgb(210,210,210)', width=3)\n",
    "                ))\n",
    "\n",
    "fig.add_trace(go.Scatter(\n",
    "                  x=df['x'],\n",
    "                  y=df['y'],\n",
    "                  mode='markers',\n",
    "                  name='node',\n",
    "                  text=df['text'],\n",
    "                  marker=dict(symbol='circle-dot',\n",
    "                                size=18,\n",
    "                                color='black',    #'#DB4551',\n",
    "                                line=dict(color='rgb(50,50,50)', width=1)\n",
    "                                ),\n",
    "                  hovertemplate='%{text}',\n",
    "                  opacity=0.8\n",
    "                  ))"
   ]
  },
  {
   "cell_type": "code",
   "execution_count": 133,
   "metadata": {},
   "outputs": [
    {
     "output_type": "execute_result",
     "data": {
      "text/plain": [
       "            date rank                      song  \\\n",
       "41    1958-08-04    1          Poor Little Fool   \n",
       "8467  1958-08-04    2                  Patricia   \n",
       "6334  1958-08-04    3             Splish Splash   \n",
       "5724  1958-08-04    6             Rebel-'rouser   \n",
       "1478  1958-08-04    7                Yakety Yak   \n",
       "4464  1958-08-04   10                     Fever   \n",
       "6500  1958-08-04    4         Hard Headed Woman   \n",
       "6962  1958-08-04    9  Willie And The Hand Jive   \n",
       "9169  1958-08-04    5                      When   \n",
       "9358  1958-08-04    8              My True Love   \n",
       "\n",
       "                                           artist last_weak peak_rank  \\\n",
       "41                                   Ricky Nelson         0         1   \n",
       "8467                Perez Prado And His Orchestra         0         2   \n",
       "6334                                  Bobby Darin         0         3   \n",
       "5724  Duane Eddy His Twangy Guitar And The Rebels         0         6   \n",
       "1478                                 The Coasters         0         7   \n",
       "4464                                    Peggy Lee         0        10   \n",
       "6500           Elvis Presley With The Jordanaires         0         4   \n",
       "6962                         The Johnny Otis Show         0         9   \n",
       "9169                                  Kalin Twins         0         5   \n",
       "9358                                   Jack Scott         0         8   \n",
       "\n",
       "     weaks_on_board   root father orientation_n   x   y             x_l  \\\n",
       "41                1   True   None          None   0   0            None   \n",
       "8467              1  False     41         right  11  -1         [0, 11]   \n",
       "6334              1  False   8467          left  -1  -2      [11, -1.0]   \n",
       "5724              1  False   6334          left  10  -3    [-1.0, 10.0]   \n",
       "1478              1  False   5724          left  -4  -4    [10.0, -4.0]   \n",
       "4464              1  False   1478         right -17  -5   [-4.0, -17.0]   \n",
       "6500              1  False   6334         right -12  -3   [-1.0, -12.0]   \n",
       "6962              1  False   6500         right -24  -4  [-12.0, -24.0]   \n",
       "9169              1  False   8467         right  23  -2      [11, 23.0]   \n",
       "9358              1  False   9169         right  36  -3    [23.0, 36.0]   \n",
       "\n",
       "           y_l                                               text  \n",
       "41        None  ID : 41<br>year : 1958<br>song : Poor Little F...  \n",
       "8467   [0, -1]  ID : 8467<br>year : 1958<br>song : Patricia<br...  \n",
       "6334  [-1, -2]  ID : 6334<br>year : 1958<br>song : Splish Spla...  \n",
       "5724  [-2, -3]  ID : 5724<br>year : 1958<br>song : Rebel-'rous...  \n",
       "1478  [-3, -4]  ID : 1478<br>year : 1958<br>song : Yakety Yak<...  \n",
       "4464  [-4, -5]  ID : 4464<br>year : 1958<br>song : Fever<br>ar...  \n",
       "6500  [-2, -3]  ID : 6500<br>year : 1958<br>song : Hard Headed...  \n",
       "6962  [-3, -4]  ID : 6962<br>year : 1958<br>song : Willie And ...  \n",
       "9169  [-1, -2]  ID : 9169<br>year : 1958<br>song : When<br>art...  \n",
       "9358  [-2, -3]  ID : 9358<br>year : 1958<br>song : My True Lov...  "
      ],
      "text/html": "<div>\n<style scoped>\n    .dataframe tbody tr th:only-of-type {\n        vertical-align: middle;\n    }\n\n    .dataframe tbody tr th {\n        vertical-align: top;\n    }\n\n    .dataframe thead th {\n        text-align: right;\n    }\n</style>\n<table border=\"1\" class=\"dataframe\">\n  <thead>\n    <tr style=\"text-align: right;\">\n      <th></th>\n      <th>date</th>\n      <th>rank</th>\n      <th>song</th>\n      <th>artist</th>\n      <th>last_weak</th>\n      <th>peak_rank</th>\n      <th>weaks_on_board</th>\n      <th>root</th>\n      <th>father</th>\n      <th>orientation_n</th>\n      <th>x</th>\n      <th>y</th>\n      <th>x_l</th>\n      <th>y_l</th>\n      <th>text</th>\n    </tr>\n  </thead>\n  <tbody>\n    <tr>\n      <th>41</th>\n      <td>1958-08-04</td>\n      <td>1</td>\n      <td>Poor Little Fool</td>\n      <td>Ricky Nelson</td>\n      <td>0</td>\n      <td>1</td>\n      <td>1</td>\n      <td>True</td>\n      <td>None</td>\n      <td>None</td>\n      <td>0</td>\n      <td>0</td>\n      <td>None</td>\n      <td>None</td>\n      <td>ID : 41&lt;br&gt;year : 1958&lt;br&gt;song : Poor Little F...</td>\n    </tr>\n    <tr>\n      <th>8467</th>\n      <td>1958-08-04</td>\n      <td>2</td>\n      <td>Patricia</td>\n      <td>Perez Prado And His Orchestra</td>\n      <td>0</td>\n      <td>2</td>\n      <td>1</td>\n      <td>False</td>\n      <td>41</td>\n      <td>right</td>\n      <td>11</td>\n      <td>-1</td>\n      <td>[0, 11]</td>\n      <td>[0, -1]</td>\n      <td>ID : 8467&lt;br&gt;year : 1958&lt;br&gt;song : Patricia&lt;br...</td>\n    </tr>\n    <tr>\n      <th>6334</th>\n      <td>1958-08-04</td>\n      <td>3</td>\n      <td>Splish Splash</td>\n      <td>Bobby Darin</td>\n      <td>0</td>\n      <td>3</td>\n      <td>1</td>\n      <td>False</td>\n      <td>8467</td>\n      <td>left</td>\n      <td>-1</td>\n      <td>-2</td>\n      <td>[11, -1.0]</td>\n      <td>[-1, -2]</td>\n      <td>ID : 6334&lt;br&gt;year : 1958&lt;br&gt;song : Splish Spla...</td>\n    </tr>\n    <tr>\n      <th>5724</th>\n      <td>1958-08-04</td>\n      <td>6</td>\n      <td>Rebel-'rouser</td>\n      <td>Duane Eddy His Twangy Guitar And The Rebels</td>\n      <td>0</td>\n      <td>6</td>\n      <td>1</td>\n      <td>False</td>\n      <td>6334</td>\n      <td>left</td>\n      <td>10</td>\n      <td>-3</td>\n      <td>[-1.0, 10.0]</td>\n      <td>[-2, -3]</td>\n      <td>ID : 5724&lt;br&gt;year : 1958&lt;br&gt;song : Rebel-'rous...</td>\n    </tr>\n    <tr>\n      <th>1478</th>\n      <td>1958-08-04</td>\n      <td>7</td>\n      <td>Yakety Yak</td>\n      <td>The Coasters</td>\n      <td>0</td>\n      <td>7</td>\n      <td>1</td>\n      <td>False</td>\n      <td>5724</td>\n      <td>left</td>\n      <td>-4</td>\n      <td>-4</td>\n      <td>[10.0, -4.0]</td>\n      <td>[-3, -4]</td>\n      <td>ID : 1478&lt;br&gt;year : 1958&lt;br&gt;song : Yakety Yak&lt;...</td>\n    </tr>\n    <tr>\n      <th>4464</th>\n      <td>1958-08-04</td>\n      <td>10</td>\n      <td>Fever</td>\n      <td>Peggy Lee</td>\n      <td>0</td>\n      <td>10</td>\n      <td>1</td>\n      <td>False</td>\n      <td>1478</td>\n      <td>right</td>\n      <td>-17</td>\n      <td>-5</td>\n      <td>[-4.0, -17.0]</td>\n      <td>[-4, -5]</td>\n      <td>ID : 4464&lt;br&gt;year : 1958&lt;br&gt;song : Fever&lt;br&gt;ar...</td>\n    </tr>\n    <tr>\n      <th>6500</th>\n      <td>1958-08-04</td>\n      <td>4</td>\n      <td>Hard Headed Woman</td>\n      <td>Elvis Presley With The Jordanaires</td>\n      <td>0</td>\n      <td>4</td>\n      <td>1</td>\n      <td>False</td>\n      <td>6334</td>\n      <td>right</td>\n      <td>-12</td>\n      <td>-3</td>\n      <td>[-1.0, -12.0]</td>\n      <td>[-2, -3]</td>\n      <td>ID : 6500&lt;br&gt;year : 1958&lt;br&gt;song : Hard Headed...</td>\n    </tr>\n    <tr>\n      <th>6962</th>\n      <td>1958-08-04</td>\n      <td>9</td>\n      <td>Willie And The Hand Jive</td>\n      <td>The Johnny Otis Show</td>\n      <td>0</td>\n      <td>9</td>\n      <td>1</td>\n      <td>False</td>\n      <td>6500</td>\n      <td>right</td>\n      <td>-24</td>\n      <td>-4</td>\n      <td>[-12.0, -24.0]</td>\n      <td>[-3, -4]</td>\n      <td>ID : 6962&lt;br&gt;year : 1958&lt;br&gt;song : Willie And ...</td>\n    </tr>\n    <tr>\n      <th>9169</th>\n      <td>1958-08-04</td>\n      <td>5</td>\n      <td>When</td>\n      <td>Kalin Twins</td>\n      <td>0</td>\n      <td>5</td>\n      <td>1</td>\n      <td>False</td>\n      <td>8467</td>\n      <td>right</td>\n      <td>23</td>\n      <td>-2</td>\n      <td>[11, 23.0]</td>\n      <td>[-1, -2]</td>\n      <td>ID : 9169&lt;br&gt;year : 1958&lt;br&gt;song : When&lt;br&gt;art...</td>\n    </tr>\n    <tr>\n      <th>9358</th>\n      <td>1958-08-04</td>\n      <td>8</td>\n      <td>My True Love</td>\n      <td>Jack Scott</td>\n      <td>0</td>\n      <td>8</td>\n      <td>1</td>\n      <td>False</td>\n      <td>9169</td>\n      <td>right</td>\n      <td>36</td>\n      <td>-3</td>\n      <td>[23.0, 36.0]</td>\n      <td>[-2, -3]</td>\n      <td>ID : 9358&lt;br&gt;year : 1958&lt;br&gt;song : My True Lov...</td>\n    </tr>\n  </tbody>\n</table>\n</div>"
     },
     "metadata": {},
     "execution_count": 133
    }
   ],
   "source": [
    "df"
   ]
  },
  {
   "cell_type": "code",
   "execution_count": 114,
   "metadata": {},
   "outputs": [
    {
     "output_type": "execute_result",
     "data": {
      "text/plain": [
       "10"
      ]
     },
     "metadata": {},
     "execution_count": 114
    }
   ],
   "source": [
    "len(node_dct)"
   ]
  },
  {
   "cell_type": "code",
   "execution_count": 94,
   "metadata": {},
   "outputs": [
    {
     "output_type": "execute_result",
     "data": {
      "text/plain": [
       "-2.0"
      ]
     },
     "metadata": {},
     "execution_count": 94
    }
   ],
   "source": [
    "for ele in range(0,len(Xe), 2):\n",
    "    print(((Xe[ele],Ye[ele]),(Xe[ele+1],Ye[ele+1])))"
   ]
  },
  {
   "cell_type": "code",
   "execution_count": 139,
   "metadata": {},
   "outputs": [
    {
     "output_type": "stream",
     "name": "stdout",
     "text": [
      "((0, 0), (11, -1))\n((11, -1), (-1.0, -2))\n((-1.0, -2), (10.0, -3))\n((10.0, -3), (-4.0, -4))\n((-4.0, -4), (-17.0, -5))\n((-1.0, -2), (-12.0, -3))\n((-12.0, -3), (-24.0, -4))\n((11, -1), (23.0, -2))\n((23.0, -2), (36.0, -3))\n"
     ]
    }
   ],
   "source": []
  }
 ]
}